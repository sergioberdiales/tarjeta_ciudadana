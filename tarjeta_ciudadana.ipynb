{
 "cells": [
  {
   "cell_type": "code",
   "execution_count": 3,
   "metadata": {},
   "outputs": [],
   "source": [
    "# Explorando los datos de uso de la tarjeta ciudadana del Ayuntamiento de Gijón. "
   ]
  },
  {
   "cell_type": "code",
   "execution_count": 4,
   "metadata": {
    "scrolled": true
   },
   "outputs": [],
   "source": [
    "# Datos. Los datos los descargué del portal de datos abiertos del Ayuntamiento de Gijón\n",
    "# https://transparencia.gijon.es/search/risp_dataset/page/1808-catalogo-de-datos?utf8=%E2%9C%93&search=tarjeta&search_sector=&search_format=&commit=Buscar&authenticity_token=3dfHiZinCPalI1qbrGMi9xN%2FcEXbwKTXCRcmQ6WRzZE%3D"
   ]
  },
  {
   "cell_type": "code",
   "execution_count": 2,
   "metadata": {},
   "outputs": [
    {
     "name": "stdout",
     "output_type": "stream",
     "text": [
      "/mnt/c/Users/SErgio/OneDrive/python_projects/tarjeta_ciudadana\r\n"
     ]
    }
   ],
   "source": [
    "!pwd"
   ]
  },
  {
   "cell_type": "code",
   "execution_count": 14,
   "metadata": {},
   "outputs": [
    {
     "name": "stdout",
     "output_type": "stream",
     "text": [
      "csv  original_data  tarjeta_ciudadana.ipynb\r\n"
     ]
    }
   ],
   "source": [
    "!ls"
   ]
  },
  {
   "cell_type": "code",
   "execution_count": 15,
   "metadata": {},
   "outputs": [],
   "source": [
    "import pandas as pd\n",
    "import matplotlib.pyplot as plt"
   ]
  },
  {
   "cell_type": "code",
   "execution_count": 21,
   "metadata": {},
   "outputs": [],
   "source": [
    "file='original_data/tc_usos_2017.csv'"
   ]
  },
  {
   "cell_type": "code",
   "execution_count": 22,
   "metadata": {
    "scrolled": false
   },
   "outputs": [],
   "source": [
    "datos_2017=pd.read_csv(file, encoding='latin-1')\n",
    "\n",
    "# Sin especificar en encoding 'latin-1' daba el siguiente error:\n",
    "# UnicodeDecodeError: 'utf-8' codec can't decode byte 0xe1 in position 25: invalid continuation byte\n"
   ]
  },
  {
   "cell_type": "code",
   "execution_count": 35,
   "metadata": {},
   "outputs": [
    {
     "data": {
      "text/html": [
       "<div>\n",
       "<style scoped>\n",
       "    .dataframe tbody tr th:only-of-type {\n",
       "        vertical-align: middle;\n",
       "    }\n",
       "\n",
       "    .dataframe tbody tr th {\n",
       "        vertical-align: top;\n",
       "    }\n",
       "\n",
       "    .dataframe thead th {\n",
       "        text-align: right;\n",
       "    }\n",
       "</style>\n",
       "<table border=\"1\" class=\"dataframe\">\n",
       "  <thead>\n",
       "    <tr style=\"text-align: right;\">\n",
       "      <th></th>\n",
       "      <th>Fecha</th>\n",
       "      <th>Servicio</th>\n",
       "      <th>Instalacion</th>\n",
       "      <th>Usos</th>\n",
       "    </tr>\n",
       "  </thead>\n",
       "  <tbody>\n",
       "    <tr>\n",
       "      <th>count</th>\n",
       "      <td>583</td>\n",
       "      <td>583</td>\n",
       "      <td>583</td>\n",
       "      <td>5.830000e+02</td>\n",
       "    </tr>\n",
       "    <tr>\n",
       "      <th>unique</th>\n",
       "      <td>12</td>\n",
       "      <td>9</td>\n",
       "      <td>52</td>\n",
       "      <td>NaN</td>\n",
       "    </tr>\n",
       "    <tr>\n",
       "      <th>top</th>\n",
       "      <td>2017-10-01</td>\n",
       "      <td>Aseos públicos</td>\n",
       "      <td>Cursos</td>\n",
       "      <td>NaN</td>\n",
       "    </tr>\n",
       "    <tr>\n",
       "      <th>freq</th>\n",
       "      <td>51</td>\n",
       "      <td>216</td>\n",
       "      <td>21</td>\n",
       "      <td>NaN</td>\n",
       "    </tr>\n",
       "    <tr>\n",
       "      <th>mean</th>\n",
       "      <td>NaN</td>\n",
       "      <td>NaN</td>\n",
       "      <td>NaN</td>\n",
       "      <td>2.561276e+04</td>\n",
       "    </tr>\n",
       "    <tr>\n",
       "      <th>std</th>\n",
       "      <td>NaN</td>\n",
       "      <td>NaN</td>\n",
       "      <td>NaN</td>\n",
       "      <td>1.453014e+05</td>\n",
       "    </tr>\n",
       "    <tr>\n",
       "      <th>min</th>\n",
       "      <td>NaN</td>\n",
       "      <td>NaN</td>\n",
       "      <td>NaN</td>\n",
       "      <td>0.000000e+00</td>\n",
       "    </tr>\n",
       "    <tr>\n",
       "      <th>25%</th>\n",
       "      <td>NaN</td>\n",
       "      <td>NaN</td>\n",
       "      <td>NaN</td>\n",
       "      <td>1.585000e+02</td>\n",
       "    </tr>\n",
       "    <tr>\n",
       "      <th>50%</th>\n",
       "      <td>NaN</td>\n",
       "      <td>NaN</td>\n",
       "      <td>NaN</td>\n",
       "      <td>9.370000e+02</td>\n",
       "    </tr>\n",
       "    <tr>\n",
       "      <th>75%</th>\n",
       "      <td>NaN</td>\n",
       "      <td>NaN</td>\n",
       "      <td>NaN</td>\n",
       "      <td>3.232000e+03</td>\n",
       "    </tr>\n",
       "    <tr>\n",
       "      <th>max</th>\n",
       "      <td>NaN</td>\n",
       "      <td>NaN</td>\n",
       "      <td>NaN</td>\n",
       "      <td>1.111230e+06</td>\n",
       "    </tr>\n",
       "  </tbody>\n",
       "</table>\n",
       "</div>"
      ],
      "text/plain": [
       "             Fecha        Servicio Instalacion          Usos\n",
       "count          583             583         583  5.830000e+02\n",
       "unique          12               9          52           NaN\n",
       "top     2017-10-01  Aseos públicos      Cursos           NaN\n",
       "freq            51             216          21           NaN\n",
       "mean           NaN             NaN         NaN  2.561276e+04\n",
       "std            NaN             NaN         NaN  1.453014e+05\n",
       "min            NaN             NaN         NaN  0.000000e+00\n",
       "25%            NaN             NaN         NaN  1.585000e+02\n",
       "50%            NaN             NaN         NaN  9.370000e+02\n",
       "75%            NaN             NaN         NaN  3.232000e+03\n",
       "max            NaN             NaN         NaN  1.111230e+06"
      ]
     },
     "execution_count": 35,
     "metadata": {},
     "output_type": "execute_result"
    }
   ],
   "source": [
    "datos_2017.describe(include='all')"
   ]
  },
  {
   "cell_type": "code",
   "execution_count": 39,
   "metadata": {},
   "outputs": [
    {
     "data": {
      "text/plain": [
       "Aseos públicos                     216\n",
       "Reserva de instalaciones           196\n",
       "Apertura contenedores orgánicos     48\n",
       "10                                  34\n",
       "Préstamos bibliotecas               24\n",
       "Transporte                          24\n",
       "010                                 17\n",
       "Gijón Bici                          12\n",
       "Inscripciones                       12\n",
       "Name: Servicio, dtype: int64"
      ]
     },
     "execution_count": 39,
     "metadata": {},
     "output_type": "execute_result"
    }
   ],
   "source": [
    "datos_2017['Servicio'].value_counts()"
   ]
  },
  {
   "cell_type": "code",
   "execution_count": 44,
   "metadata": {},
   "outputs": [
    {
     "data": {
      "text/plain": [
       "Cursos                                      21\n",
       "El Rinconín                                 12\n",
       "Playa de Poniente                           12\n",
       "Infantiles                                  12\n",
       "Nuevo Gijón                                 12\n",
       "Complejo Deportivo El Llano - Contrueces    12\n",
       "Paseo del Muro, escalera 3                  12\n",
       "Antigua Pescadería                          12\n",
       "Casa Consistorial                           12\n",
       "Avda del Llano                              12\n",
       "Name: Instalacion, dtype: int64"
      ]
     },
     "execution_count": 44,
     "metadata": {},
     "output_type": "execute_result"
    }
   ],
   "source": [
    "datos_2017['Instalacion'].value_counts().head(10)"
   ]
  },
  {
   "cell_type": "code",
   "execution_count": 67,
   "metadata": {
    "scrolled": true
   },
   "outputs": [
    {
     "name": "stdout",
     "output_type": "stream",
     "text": [
      "                          Servicio      Usos\n",
      "0                              010      3268\n",
      "1                               10      6992\n",
      "4                       Gijón Bici     15097\n",
      "5                    Inscripciones     92130\n",
      "2  Apertura contenedores orgánicos    197771\n",
      "7         Reserva de instalaciones    222017\n",
      "6            Préstamos bibliotecas    250903\n",
      "3                   Aseos públicos    315999\n",
      "8                       Transporte  13828063\n"
     ]
    }
   ],
   "source": [
    "servicios = datos_2017.groupby(['Servicio'])['Usos'].sum().reset_index().sort_values(['Usos'], ascending=True)\n",
    "print(servicios)"
   ]
  },
  {
   "cell_type": "code",
   "execution_count": 76,
   "metadata": {
    "scrolled": true
   },
   "outputs": [
    {
     "data": {
      "text/plain": [
       "<BarContainer object of 9 artists>"
      ]
     },
     "execution_count": 76,
     "metadata": {},
     "output_type": "execute_result"
    },
    {
     "data": {
      "image/png": "[encoded data removed]",
      "text/plain": [
       "<Figure size 432x288 with 1 Axes>"
      ]
     },
     "metadata": {},
     "output_type": "display_data"
    }
   ],
   "source": [
    "plt.barh(servicios['Servicio'], servicios['Usos'])"
   ]
  },
  {
   "cell_type": "markdown",
   "metadata": {},
   "source": [
    "Como era de esperar la diferencia tan enorme entre los usos de 'Transporte' y el resto de categorías impide observar las diferencias entre el resto. Así que hacemos de nuevo el gráfico excluyendo el 'Servicio' 'Transporte'"
   ]
  },
  {
   "cell_type": "code",
   "execution_count": 79,
   "metadata": {},
   "outputs": [
    {
     "data": {
      "text/plain": [
       "<BarContainer object of 8 artists>"
      ]
     },
     "execution_count": 79,
     "metadata": {},
     "output_type": "execute_result"
    },
    {
     "data": {
      "image/png": "[encoded data removed]",
      "text/plain": [
       "<Figure size 432x288 with 1 Axes>"
      ]
     },
     "metadata": {},
     "output_type": "display_data"
    }
   ],
   "source": [
    "servicios_sin_tte = servicios.loc[servicios['Servicio'] != 'Transporte']\n",
    "plt.barh(servicios_sin_tte['Servicio'], servicios_sin_tte['Usos'])"
   ]
  }
 ],
 "metadata": {
  "kernelspec": {
   "display_name": "Python 3",
   "language": "python",
   "name": "python3"
  },
  "language_info": {
   "codemirror_mode": {
    "name": "ipython",
    "version": 3
   },
   "file_extension": ".py",
   "mimetype": "text/x-python",
   "name": "python",
   "nbconvert_exporter": "python",
   "pygments_lexer": "ipython3",
   "version": "3.6.5"
  }
 },
 "nbformat": 4,
 "nbformat_minor": 2
}
